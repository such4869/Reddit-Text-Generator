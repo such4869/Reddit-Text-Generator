{
 "cells": [
  {
   "cell_type": "code",
   "execution_count": 1,
   "id": "c9c0d608",
   "metadata": {},
   "outputs": [],
   "source": [
    "import pandas as pd"
   ]
  },
  {
   "cell_type": "code",
   "execution_count": 4,
   "id": "25d9a40a",
   "metadata": {},
   "outputs": [],
   "source": [
    "data = pd.read_csv('reddit_comments.csv')"
   ]
  },
  {
   "cell_type": "code",
   "execution_count": 5,
   "id": "1ddc4335",
   "metadata": {},
   "outputs": [
    {
     "data": {
      "text/html": [
       "<div>\n",
       "<style scoped>\n",
       "    .dataframe tbody tr th:only-of-type {\n",
       "        vertical-align: middle;\n",
       "    }\n",
       "\n",
       "    .dataframe tbody tr th {\n",
       "        vertical-align: top;\n",
       "    }\n",
       "\n",
       "    .dataframe thead th {\n",
       "        text-align: right;\n",
       "    }\n",
       "</style>\n",
       "<table border=\"1\" class=\"dataframe\">\n",
       "  <thead>\n",
       "    <tr style=\"text-align: right;\">\n",
       "      <th></th>\n",
       "      <th>id</th>\n",
       "      <th>comment</th>\n",
       "    </tr>\n",
       "  </thead>\n",
       "  <tbody>\n",
       "    <tr>\n",
       "      <th>0</th>\n",
       "      <td>fgi2pi</td>\n",
       "      <td>everybody i talk area \" whatever \" camp , infu...</td>\n",
       "    </tr>\n",
       "    <tr>\n",
       "      <th>1</th>\n",
       "      <td>fgi2pi</td>\n",
       "      <td>people going get - avoid , helps tremendously ...</td>\n",
       "    </tr>\n",
       "    <tr>\n",
       "      <th>2</th>\n",
       "      <td>fgi2pi</td>\n",
       "      <td>i ' feeling hot today . i weird dry cough , li...</td>\n",
       "    </tr>\n",
       "    <tr>\n",
       "      <th>3</th>\n",
       "      <td>fgi2pi</td>\n",
       "      <td>see rest article infectious disease expert [ d...</td>\n",
       "    </tr>\n",
       "    <tr>\n",
       "      <th>4</th>\n",
       "      <td>fgi2pi</td>\n",
       "      <td>considering number icu beds , flatten peak sav...</td>\n",
       "    </tr>\n",
       "    <tr>\n",
       "      <th>...</th>\n",
       "      <td>...</td>\n",
       "      <td>...</td>\n",
       "    </tr>\n",
       "    <tr>\n",
       "      <th>589017</th>\n",
       "      <td>fhpkim</td>\n",
       "      <td>but hard stop virus spreading decontaminate ha...</td>\n",
       "    </tr>\n",
       "    <tr>\n",
       "      <th>589018</th>\n",
       "      <td>fhpkim</td>\n",
       "      <td>yup . there ’ many real supply chain issues pe...</td>\n",
       "    </tr>\n",
       "    <tr>\n",
       "      <th>589019</th>\n",
       "      <td>fhpkim</td>\n",
       "      <td>nobody trade corn amount gold certain circumst...</td>\n",
       "    </tr>\n",
       "    <tr>\n",
       "      <th>589020</th>\n",
       "      <td>fhpkim</td>\n",
       "      <td>obvious statement obvious</td>\n",
       "    </tr>\n",
       "    <tr>\n",
       "      <th>589021</th>\n",
       "      <td>fhpcyn</td>\n",
       "      <td>well given healthcare system , i kinda wish i ...</td>\n",
       "    </tr>\n",
       "  </tbody>\n",
       "</table>\n",
       "<p>589022 rows × 2 columns</p>\n",
       "</div>"
      ],
      "text/plain": [
       "            id                                            comment\n",
       "0       fgi2pi  everybody i talk area \" whatever \" camp , infu...\n",
       "1       fgi2pi  people going get - avoid , helps tremendously ...\n",
       "2       fgi2pi  i ' feeling hot today . i weird dry cough , li...\n",
       "3       fgi2pi  see rest article infectious disease expert [ d...\n",
       "4       fgi2pi  considering number icu beds , flatten peak sav...\n",
       "...        ...                                                ...\n",
       "589017  fhpkim  but hard stop virus spreading decontaminate ha...\n",
       "589018  fhpkim  yup . there ’ many real supply chain issues pe...\n",
       "589019  fhpkim  nobody trade corn amount gold certain circumst...\n",
       "589020  fhpkim                          obvious statement obvious\n",
       "589021  fhpcyn  well given healthcare system , i kinda wish i ...\n",
       "\n",
       "[589022 rows x 2 columns]"
      ]
     },
     "execution_count": 5,
     "metadata": {},
     "output_type": "execute_result"
    }
   ],
   "source": [
    "data"
   ]
  },
  {
   "cell_type": "code",
   "execution_count": 6,
   "id": "96c8b7aa",
   "metadata": {},
   "outputs": [],
   "source": [
    "import re"
   ]
  },
  {
   "cell_type": "code",
   "execution_count": 49,
   "id": "58fcdd5c",
   "metadata": {},
   "outputs": [],
   "source": [
    "b = re.compile('[^a-z0-9A-Z,\\.\"\\'\\!\\- ]')"
   ]
  },
  {
   "cell_type": "code",
   "execution_count": 50,
   "id": "879602c8",
   "metadata": {},
   "outputs": [],
   "source": [
    "k = []\n",
    "for i in data['comment']:\n",
    "    try:\n",
    "        if type(i) == str:\n",
    "            k.append(b.sub('', i))\n",
    "    except Exception as e:\n",
    "        print(\"failed on\", i)\n",
    "        print(e)\n",
    "        break"
   ]
  },
  {
   "cell_type": "code",
   "execution_count": 52,
   "id": "2c549add",
   "metadata": {},
   "outputs": [],
   "source": [
    "i = pd.DataFrame(k)"
   ]
  },
  {
   "cell_type": "code",
   "execution_count": 53,
   "id": "069cc90e",
   "metadata": {},
   "outputs": [
    {
     "data": {
      "text/html": [
       "<div>\n",
       "<style scoped>\n",
       "    .dataframe tbody tr th:only-of-type {\n",
       "        vertical-align: middle;\n",
       "    }\n",
       "\n",
       "    .dataframe tbody tr th {\n",
       "        vertical-align: top;\n",
       "    }\n",
       "\n",
       "    .dataframe thead th {\n",
       "        text-align: right;\n",
       "    }\n",
       "</style>\n",
       "<table border=\"1\" class=\"dataframe\">\n",
       "  <thead>\n",
       "    <tr style=\"text-align: right;\">\n",
       "      <th></th>\n",
       "      <th>0</th>\n",
       "    </tr>\n",
       "  </thead>\n",
       "  <tbody>\n",
       "    <tr>\n",
       "      <th>0</th>\n",
       "      <td>everybody i talk area \" whatever \" camp , infu...</td>\n",
       "    </tr>\n",
       "    <tr>\n",
       "      <th>1</th>\n",
       "      <td>people going get - avoid , helps tremendously ...</td>\n",
       "    </tr>\n",
       "    <tr>\n",
       "      <th>2</th>\n",
       "      <td>i ' feeling hot today . i weird dry cough , li...</td>\n",
       "    </tr>\n",
       "    <tr>\n",
       "      <th>3</th>\n",
       "      <td>see rest article infectious disease expert  dr...</td>\n",
       "    </tr>\n",
       "    <tr>\n",
       "      <th>4</th>\n",
       "      <td>considering number icu beds , flatten peak sav...</td>\n",
       "    </tr>\n",
       "    <tr>\n",
       "      <th>...</th>\n",
       "      <td>...</td>\n",
       "    </tr>\n",
       "    <tr>\n",
       "      <th>587397</th>\n",
       "      <td>but hard stop virus spreading decontaminate ha...</td>\n",
       "    </tr>\n",
       "    <tr>\n",
       "      <th>587398</th>\n",
       "      <td>yup . there  many real supply chain issues peo...</td>\n",
       "    </tr>\n",
       "    <tr>\n",
       "      <th>587399</th>\n",
       "      <td>nobody trade corn amount gold certain circumst...</td>\n",
       "    </tr>\n",
       "    <tr>\n",
       "      <th>587400</th>\n",
       "      <td>obvious statement obvious</td>\n",
       "    </tr>\n",
       "    <tr>\n",
       "      <th>587401</th>\n",
       "      <td>well given healthcare system , i kinda wish i ...</td>\n",
       "    </tr>\n",
       "  </tbody>\n",
       "</table>\n",
       "<p>587402 rows × 1 columns</p>\n",
       "</div>"
      ],
      "text/plain": [
       "                                                        0\n",
       "0       everybody i talk area \" whatever \" camp , infu...\n",
       "1       people going get - avoid , helps tremendously ...\n",
       "2       i ' feeling hot today . i weird dry cough , li...\n",
       "3       see rest article infectious disease expert  dr...\n",
       "4       considering number icu beds , flatten peak sav...\n",
       "...                                                   ...\n",
       "587397  but hard stop virus spreading decontaminate ha...\n",
       "587398  yup . there  many real supply chain issues peo...\n",
       "587399  nobody trade corn amount gold certain circumst...\n",
       "587400                          obvious statement obvious\n",
       "587401  well given healthcare system , i kinda wish i ...\n",
       "\n",
       "[587402 rows x 1 columns]"
      ]
     },
     "execution_count": 53,
     "metadata": {},
     "output_type": "execute_result"
    }
   ],
   "source": [
    "i"
   ]
  },
  {
   "cell_type": "code",
   "execution_count": 55,
   "id": "9592b4c0",
   "metadata": {},
   "outputs": [],
   "source": [
    "i.to_csv('k.csv')"
   ]
  },
  {
   "cell_type": "code",
   "execution_count": null,
   "id": "20321d09",
   "metadata": {},
   "outputs": [],
   "source": []
  }
 ],
 "metadata": {
  "kernelspec": {
   "display_name": "Python 3 (ipykernel)",
   "language": "python",
   "name": "python3"
  },
  "language_info": {
   "codemirror_mode": {
    "name": "ipython",
    "version": 3
   },
   "file_extension": ".py",
   "mimetype": "text/x-python",
   "name": "python",
   "nbconvert_exporter": "python",
   "pygments_lexer": "ipython3",
   "version": "3.7.3"
  }
 },
 "nbformat": 4,
 "nbformat_minor": 5
}
